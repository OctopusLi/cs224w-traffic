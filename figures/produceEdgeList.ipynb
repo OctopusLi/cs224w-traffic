{
 "cells": [
  {
   "cell_type": "code",
   "execution_count": 1,
   "metadata": {
    "collapsed": true
   },
   "outputs": [],
   "source": [
    "import snap\n",
    "import pickle\n",
    "from matplotlib import pyplot as plt\n",
    "import seaborn as sns; sns.set()\n",
    "import numpy as np\n",
    "from sklearn.cluster import KMeans\n",
    "import pandas as pd\n",
    "import matplotlib"
   ]
  },
  {
   "cell_type": "markdown",
   "metadata": {},
   "source": [
    "### Load the adjacency matrix"
   ]
  },
  {
   "cell_type": "code",
   "execution_count": 2,
   "metadata": {
    "collapsed": true
   },
   "outputs": [],
   "source": [
    "f = open('./data/sensor_graph/adj_mx.pkl', 'rb')   # 'r' for reading; can be omitted\n",
    "data = pickle.load(f)         # load file content as mydict\n",
    "f.close()"
   ]
  },
  {
   "cell_type": "markdown",
   "metadata": {},
   "source": [
    "### Plot to visualize"
   ]
  },
  {
   "cell_type": "code",
   "execution_count": 3,
   "metadata": {},
   "outputs": [
    {
     "data": {
      "image/png": "[encoded data removed]",
      "text/plain": [
       "<Figure size 432x288 with 2 Axes>"
      ]
     },
     "metadata": {
      "needs_background": "light"
     },
     "output_type": "display_data"
    }
   ],
   "source": [
    "ax = sns.heatmap(data[2], vmin=0.5, vmax=1, cmap=\"YlGnBu\")\n",
    "plt.show()"
   ]
  },
  {
   "cell_type": "code",
   "execution_count": 4,
   "metadata": {},
   "outputs": [
    {
     "data": {
      "text/plain": [
       "{'716328': 33,\n",
       " '716331': 15,\n",
       " '716337': 17,\n",
       " '716339': 12,\n",
       " '716554': 53,\n",
       " '716571': 90,\n",
       " '716939': 174,\n",
       " '716941': 23,\n",
       " '716942': 124,\n",
       " '716943': 165,\n",
       " '716949': 170,\n",
       " '716951': 134,\n",
       " '716953': 133,\n",
       " '716955': 56,\n",
       " '716956': 49,\n",
       " '716958': 139,\n",
       " '716960': 25,\n",
       " '716968': 112,\n",
       " '717099': 110,\n",
       " '717445': 5,\n",
       " '717446': 4,\n",
       " '717447': 3,\n",
       " '717450': 191,\n",
       " '717452': 192,\n",
       " '717453': 193,\n",
       " '717456': 195,\n",
       " '717458': 187,\n",
       " '717459': 188,\n",
       " '717460': 161,\n",
       " '717461': 160,\n",
       " '717462': 163,\n",
       " '717463': 162,\n",
       " '717465': 157,\n",
       " '717466': 159,\n",
       " '717468': 155,\n",
       " '717469': 154,\n",
       " '717472': 127,\n",
       " '717473': 128,\n",
       " '717480': 97,\n",
       " '717481': 96,\n",
       " '717483': 94,\n",
       " '717486': 98,\n",
       " '717488': 103,\n",
       " '717489': 102,\n",
       " '717490': 70,\n",
       " '717491': 71,\n",
       " '717492': 72,\n",
       " '717493': 73,\n",
       " '717495': 52,\n",
       " '717497': 69,\n",
       " '717498': 75,\n",
       " '717499': 76,\n",
       " '717502': 146,\n",
       " '717504': 148,\n",
       " '717508': 150,\n",
       " '717510': 180,\n",
       " '717513': 181,\n",
       " '717570': 118,\n",
       " '717571': 117,\n",
       " '717572': 116,\n",
       " '717573': 115,\n",
       " '717576': 114,\n",
       " '717578': 24,\n",
       " '717580': 169,\n",
       " '717582': 167,\n",
       " '717583': 168,\n",
       " '717585': 173,\n",
       " '717587': 171,\n",
       " '717590': 201,\n",
       " '717592': 202,\n",
       " '717595': 203,\n",
       " '717608': 122,\n",
       " '717610': 83,\n",
       " '717804': 26,\n",
       " '717816': 9,\n",
       " '717818': 104,\n",
       " '717819': 34,\n",
       " '717821': 185,\n",
       " '717823': 186,\n",
       " '717825': 182,\n",
       " '718045': 38,\n",
       " '718064': 78,\n",
       " '718066': 79,\n",
       " '718072': 106,\n",
       " '718076': 105,\n",
       " '718089': 120,\n",
       " '718090': 125,\n",
       " '718141': 205,\n",
       " '718204': 37,\n",
       " '718371': 101,\n",
       " '718379': 95,\n",
       " '718496': 140,\n",
       " '718499': 143,\n",
       " '737529': 8,\n",
       " '759591': 129,\n",
       " '759602': 147,\n",
       " '759772': 194,\n",
       " '760024': 43,\n",
       " '760650': 48,\n",
       " '760987': 36,\n",
       " '761003': 145,\n",
       " '761599': 109,\n",
       " '761604': 51,\n",
       " '762329': 132,\n",
       " '763995': 149,\n",
       " '764101': 176,\n",
       " '764106': 156,\n",
       " '764120': 99,\n",
       " '764424': 31,\n",
       " '764760': 119,\n",
       " '764766': 68,\n",
       " '764781': 130,\n",
       " '764794': 158,\n",
       " '764853': 144,\n",
       " '764858': 190,\n",
       " '764949': 57,\n",
       " '765099': 131,\n",
       " '765164': 80,\n",
       " '765171': 77,\n",
       " '765176': 74,\n",
       " '765182': 136,\n",
       " '765265': 151,\n",
       " '765273': 14,\n",
       " '765604': 10,\n",
       " '767053': 84,\n",
       " '767350': 88,\n",
       " '767351': 89,\n",
       " '767366': 59,\n",
       " '767454': 108,\n",
       " '767455': 107,\n",
       " '767470': 55,\n",
       " '767471': 11,\n",
       " '767494': 184,\n",
       " '767495': 183,\n",
       " '767509': 135,\n",
       " '767523': 123,\n",
       " '767541': 1,\n",
       " '767542': 2,\n",
       " '767554': 177,\n",
       " '767572': 27,\n",
       " '767573': 28,\n",
       " '767585': 92,\n",
       " '767609': 46,\n",
       " '767610': 66,\n",
       " '767620': 7,\n",
       " '767621': 85,\n",
       " '767750': 64,\n",
       " '767751': 65,\n",
       " '768066': 40,\n",
       " '768469': 175,\n",
       " '769345': 164,\n",
       " '769346': 141,\n",
       " '769358': 137,\n",
       " '769359': 47,\n",
       " '769372': 198,\n",
       " '769373': 206,\n",
       " '769388': 32,\n",
       " '769402': 19,\n",
       " '769403': 20,\n",
       " '769405': 22,\n",
       " '769418': 39,\n",
       " '769430': 82,\n",
       " '769431': 81,\n",
       " '769443': 63,\n",
       " '769444': 60,\n",
       " '769467': 113,\n",
       " '769806': 200,\n",
       " '769819': 21,\n",
       " '769831': 50,\n",
       " '769847': 121,\n",
       " '769867': 126,\n",
       " '769926': 189,\n",
       " '769941': 35,\n",
       " '769953': 18,\n",
       " '771667': 16,\n",
       " '771673': 196,\n",
       " '772140': 41,\n",
       " '772151': 100,\n",
       " '772167': 197,\n",
       " '772168': 204,\n",
       " '772178': 172,\n",
       " '772513': 138,\n",
       " '772596': 86,\n",
       " '772597': 87,\n",
       " '772669': 166,\n",
       " '773012': 29,\n",
       " '773013': 30,\n",
       " '773023': 91,\n",
       " '773024': 93,\n",
       " '773062': 6,\n",
       " '773869': 0,\n",
       " '773880': 67,\n",
       " '773904': 142,\n",
       " '773906': 13,\n",
       " '773916': 111,\n",
       " '773927': 42,\n",
       " '773939': 61,\n",
       " '773953': 54,\n",
       " '773954': 58,\n",
       " '773974': 179,\n",
       " '773975': 178,\n",
       " '773995': 153,\n",
       " '773996': 152,\n",
       " '774011': 45,\n",
       " '774012': 44,\n",
       " '774067': 62,\n",
       " '774204': 199}"
      ]
     },
     "execution_count": 4,
     "metadata": {},
     "output_type": "execute_result"
    }
   ],
   "source": [
    "data[1]"
   ]
  },
  {
   "cell_type": "markdown",
   "metadata": {},
   "source": [
    "### However, the edgelist does not contain self-loops\n",
    "Set the diagonal entries to be 0"
   ]
  },
  {
   "cell_type": "code",
   "execution_count": 5,
   "metadata": {},
   "outputs": [
    {
     "data": {
      "image/png": "[encoded data removed]",
      "text/plain": [
       "<Figure size 432x288 with 2 Axes>"
      ]
     },
     "metadata": {
      "needs_background": "light"
     },
     "output_type": "display_data"
    }
   ],
   "source": [
    "for i in range(data[2].shape[0]):\n",
    "    data[2][i, i] = 0\n",
    "ax = sns.heatmap(data[2], vmin=0.5, vmax=1, cmap=\"YlGnBu\")\n",
    "plt.show()"
   ]
  },
  {
   "cell_type": "markdown",
   "metadata": {},
   "source": [
    "### Produce edge list from the weighted matrix\n",
    "Also, notice that node 26 is missing from the weight and matrix file."
   ]
  },
  {
   "cell_type": "code",
   "execution_count": 6,
   "metadata": {},
   "outputs": [
    {
     "data": {
      "text/plain": [
       "array([0., 0., 0., 0., 0., 0., 0., 0., 0., 0., 0., 0., 0., 0., 0., 0., 0.,\n",
       "       0., 0., 0., 0., 0., 0., 0., 0., 0., 0., 0., 0., 0., 0., 0., 0., 0.,\n",
       "       0., 0., 0., 0., 0., 0., 0., 0., 0., 0., 0., 0., 0., 0., 0., 0., 0.,\n",
       "       0., 0., 0., 0., 0., 0., 0., 0., 0., 0., 0., 0., 0., 0., 0., 0., 0.,\n",
       "       0., 0., 0., 0., 0., 0., 0., 0., 0., 0., 0., 0., 0., 0., 0., 0., 0.,\n",
       "       0., 0., 0., 0., 0., 0., 0., 0., 0., 0., 0., 0., 0., 0., 0., 0., 0.,\n",
       "       0., 0., 0., 0., 0., 0., 0., 0., 0., 0., 0., 0., 0., 0., 0., 0., 0.,\n",
       "       0., 0., 0., 0., 0., 0., 0., 0., 0., 0., 0., 0., 0., 0., 0., 0., 0.,\n",
       "       0., 0., 0., 0., 0., 0., 0., 0., 0., 0., 0., 0., 0., 0., 0., 0., 0.,\n",
       "       0., 0., 0., 0., 0., 0., 0., 0., 0., 0., 0., 0., 0., 0., 0., 0., 0.,\n",
       "       0., 0., 0., 0., 0., 0., 0., 0., 0., 0., 0., 0., 0., 0., 0., 0., 0.,\n",
       "       0., 0., 0., 0., 0., 0., 0., 0., 0., 0., 0., 0., 0., 0., 0., 0., 0.,\n",
       "       0., 0., 0.], dtype=float32)"
      ]
     },
     "execution_count": 6,
     "metadata": {},
     "output_type": "execute_result"
    }
   ],
   "source": [
    "data[2][26,:]"
   ]
  },
  {
   "cell_type": "code",
   "execution_count": 61,
   "metadata": {},
   "outputs": [
    {
     "data": {
      "text/plain": [
       "1515"
      ]
     },
     "execution_count": 61,
     "metadata": {},
     "output_type": "execute_result"
    }
   ],
   "source": [
    "len(np.where(data[2]!=0.0)[0])"
   ]
  },
  {
   "cell_type": "code",
   "execution_count": 73,
   "metadata": {
    "collapsed": true
   },
   "outputs": [],
   "source": [
    "nonZeroEleInd = np.where(data[2]!=0.0)\n",
    "with open('METR-LA.txt', 'w') as f:\n",
    "    for index in range(len(nonZeroEleInd[0])):\n",
    "        x = nonZeroEleInd[0][index]\n",
    "        y = nonZeroEleInd[1][index]\n",
    "        f.write('{} {} {}\\n'.format(x, y, data[2][x, y]))"
   ]
  },
  {
   "cell_type": "code",
   "execution_count": 74,
   "metadata": {},
   "outputs": [
    {
     "data": {
      "text/plain": [
       "26"
      ]
     },
     "execution_count": 74,
     "metadata": {},
     "output_type": "execute_result"
    }
   ],
   "source": [
    "a = list(set(nonZeroEleInd[0]).union(set(nonZeroEleInd[1])))\n",
    "sum(xrange(a[0],a[-1]+1)) - sum(a)"
   ]
  },
  {
   "cell_type": "code",
   "execution_count": 1,
   "metadata": {
    "collapsed": true
   },
   "outputs": [],
   "source": [
    "with open('embed_file.txt', 'w') as f:\n",
    "    f.write('1234')"
   ]
  },
  {
   "cell_type": "code",
   "execution_count": 2,
   "metadata": {
    "collapsed": true
   },
   "outputs": [],
   "source": [
    "with open('embed_file.txt', 'r') as f:\n",
    "    a = f.read()"
   ]
  },
  {
   "cell_type": "code",
   "execution_count": 3,
   "metadata": {},
   "outputs": [
    {
     "data": {
      "text/plain": [
       "'1234'"
      ]
     },
     "execution_count": 3,
     "metadata": {},
     "output_type": "execute_result"
    }
   ],
   "source": [
    "a"
   ]
  },
  {
   "cell_type": "code",
   "execution_count": 4,
   "metadata": {},
   "outputs": [
    {
     "data": {
      "text/plain": [
       "'1234.txt'"
      ]
     },
     "execution_count": 4,
     "metadata": {},
     "output_type": "execute_result"
    }
   ],
   "source": [
    "'{}.txt'.format(a)"
   ]
  },
  {
   "cell_type": "code",
   "execution_count": null,
   "metadata": {
    "collapsed": true
   },
   "outputs": [],
   "source": []
  }
 ],
 "metadata": {
  "anaconda-cloud": {},
  "kernelspec": {
   "display_name": "Python (cs224w)",
   "language": "python",
   "name": "cs224w"
  },
  "language_info": {
   "codemirror_mode": {
    "name": "ipython",
    "version": 2
   },
   "file_extension": ".py",
   "mimetype": "text/x-python",
   "name": "python",
   "nbconvert_exporter": "python",
   "pygments_lexer": "ipython2",
   "version": "2.7.15"
  }
 },
 "nbformat": 4,
 "nbformat_minor": 2
}
